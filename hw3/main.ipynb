{
 "cells": [
  {
   "cell_type": "markdown",
   "metadata": {},
   "source": [
    "## Вероятностная рейтинг-система для спортивного “Что? Где? Когда?” (ЧГК)"
   ]
  },
  {
   "cell_type": "markdown",
   "metadata": {},
   "source": [
    "В спортивном “Что? Где? Когда?” соревнующиеся команды отвечают на одни и те же вопросы. После минуты обсуждения команды записывают и сдают свои ответы на карточках; побеждает тот, кто ответил на большее число вопросов. Турнир обычно состоит из нескольких десятков вопросов (обычно 36 или 45, иногда 60, больше редко). Часто бывают синхронные турниры, когда на одни и те же вопросы отвечают команды на сотнях игровых площадок по всему миру, т.е. в одном турнире могут играть сотни, а то и тысячи команд. Соответственно, нам нужно:\n",
    "* построить рейтинг-лист, который способен нетривиально предсказывать результаты будущих турниров;\n",
    "* при этом, поскольку ЧГК — это хобби, и контрактов тут никаких нет, игроки постоянно переходят из команды в команду, сильный игрок может на один турнир сесть поиграть за другую команду и т.д.; поэтому единицей рейтинг-листа должна быть не команда, а отдельный игрок;\n",
    "* а что сильно упрощает задачу и переводит её в область домашних заданий на EM-алгоритм — это характер данных: начиная с какого-то момента, в базу результатов начали вносить все повопросные результаты команд, т.е. в данных будут записи вида “какая команда на какой вопрос правильно ответила”."
   ]
  },
  {
   "cell_type": "markdown",
   "metadata": {},
   "source": [
    "Загрузим данные и посмотрим на них"
   ]
  },
  {
   "cell_type": "code",
   "execution_count": 89,
   "metadata": {},
   "outputs": [],
   "source": [
    "import json\n",
    "import numpy as np\n",
    "import pandas as pd\n",
    "import pickle\n",
    "import matplotlib.pyplot as plt\n",
    "\n",
    "from tqdm.notebook import tqdm\n",
    "from scipy.stats import spearmanr, kendalltau\n",
    "from sklearn.linear_model import LogisticRegression\n",
    "from sklearn.preprocessing import OneHotEncoder"
   ]
  },
  {
   "cell_type": "code",
   "execution_count": 2,
   "metadata": {},
   "outputs": [],
   "source": [
    "tournaments = pickle.load(open(\"chgk/tournaments.pkl\", \"rb\"))\n",
    "results = pickle.load(open(\"chgk/results.pkl\", \"rb\"))\n",
    "players = pickle.load(open(\"chgk/players.pkl\", \"rb\"))"
   ]
  },
  {
   "cell_type": "code",
   "execution_count": 3,
   "metadata": {},
   "outputs": [],
   "source": [
    "train_tour = {k:v for k,v in tournaments.items() if v[\"dateStart\"][:4] == \"2019\"}\n",
    "test_tour  = {k:v for k,v in tournaments.items() if v[\"dateStart\"][:4] == \"2020\"}"
   ]
  },
  {
   "cell_type": "code",
   "execution_count": 4,
   "metadata": {},
   "outputs": [
    {
     "data": {
      "text/plain": [
       "('010111101111010110001000111101011010111011000111111111110011110100001010101111111111011110',\n",
       " [28751, 30152, 30270, 27822, 27403, 4270])"
      ]
     },
     "execution_count": 4,
     "metadata": {},
     "output_type": "execute_result"
    }
   ],
   "source": [
    "results[5465][0][\"mask\"], [p[\"player\"][\"id\"] for p in results[5465][0][\"teamMembers\"]]"
   ]
  },
  {
   "cell_type": "code",
   "execution_count": 5,
   "metadata": {},
   "outputs": [],
   "source": [
    "all_players = set()\n",
    "for tour_id in train_tour:\n",
    "    for team in results[tour_id]:\n",
    "         all_players.update(set([p[\"player\"][\"id\"] for p in team[\"teamMembers\"]]))\n",
    "            \n",
    "test_players = set()\n",
    "for tour_id in test_tour:\n",
    "    for team in results[tour_id]:\n",
    "         test_players.update(set([p[\"player\"][\"id\"] for p in team[\"teamMembers\"]]))"
   ]
  },
  {
   "cell_type": "markdown",
   "metadata": {},
   "source": [
    "*TASK*: Постройте baseline-модель на основе линейной или логистической регрессии, которая будет обучать рейтинг-лист игроков. Замечания и подсказки:\n",
    "\n",
    "* повопросные результаты — это фактически результаты броска монетки, и их предсказание скорее всего имеет отношение к бинарной классификации;\n",
    "*  в разных турнирах вопросы совсем разного уровня сложности, поэтому модель должна это учитывать; скорее всего, модель должна будет явно обучать не только силу каждого игрока, но и сложность каждого вопроса;\n",
    "* для baseline-модели можно забыть о командах и считать, что повопросные результаты команды просто относятся к каждому из её игроков.\n",
    "\n",
    "*ANS*:\n",
    "\n",
    "Для baseline будем считать, что игрок ответил на вопрос, если на вопрос ответила его команда.\n",
    "\n",
    "Для начала вычислим сложность каждого вопроса, как отношение количества игроков ответивших на вопрос к количеству игроков в турнире (чем оно меньше, тем вопрос сложнее)"
   ]
  },
  {
   "cell_type": "code",
   "execution_count": 6,
   "metadata": {
    "scrolled": false
   },
   "outputs": [],
   "source": [
    "Q = dict()\n",
    "X = {\"id_pl\":[], \"q_id\":[], \"y\":[]}\n",
    "for tour_id in train_tour.keys():\n",
    "    for i in range(999):\n",
    "        \n",
    "        k = 0\n",
    "        N = 0\n",
    "        stop = True\n",
    "        q_id = f\"{tour_id}_{i}\"\n",
    "        \n",
    "        for comand in results[tour_id]:\n",
    "            if 'mask' in comand.keys() and comand[\"mask\"] is not None and len(comand[\"mask\"]) > i:\n",
    "                \n",
    "                players = [p[\"player\"][\"id\"] for p in comand[\"teamMembers\"]]\n",
    "                if comand[\"mask\"][i] == \"1\":\n",
    "                    k += len(players)\n",
    "                    \n",
    "                for player in players:\n",
    "                    X[\"id_pl\"].append(player)\n",
    "                    X[\"q_id\"].append(q_id)\n",
    "                    X[\"y\"].append(1 if comand[\"mask\"][i] == \"1\" else 0)\n",
    "                    \n",
    "                N += len(players)\n",
    "                stop = False\n",
    "                \n",
    "        if N != 0:\n",
    "            k = k/N\n",
    "        else:\n",
    "            if stop:\n",
    "                break\n",
    "            continue\n",
    "            \n",
    "        Q[q_id] = k\n",
    "        if stop:\n",
    "            break\n",
    "            \n",
    "Q = pd.DataFrame({\"q_id\":list(Q.keys()),\"q\":list(Q.values())})\n",
    "X = pd.DataFrame(X)\n",
    "X = X.merge(Q, on='q_id')"
   ]
  },
  {
   "cell_type": "markdown",
   "metadata": {},
   "source": [
    "Посмотрим на распределение СВ сложность вопроса"
   ]
  },
  {
   "cell_type": "code",
   "execution_count": 7,
   "metadata": {},
   "outputs": [
    {
     "name": "stderr",
     "output_type": "stream",
     "text": [
      "/Users/baduk/anaconda3/lib/python3.7/site-packages/matplotlib/axes/_axes.py:6521: MatplotlibDeprecationWarning: \n",
      "The 'normed' kwarg was deprecated in Matplotlib 2.1 and will be removed in 3.1. Use 'density' instead.\n",
      "  alternative=\"'density'\", removal=\"3.1\")\n"
     ]
    },
    {
     "data": {
      "image/png": "[encoded data removed]",
      "text/plain": [
       "<Figure size 432x288 with 1 Axes>"
      ]
     },
     "metadata": {
      "needs_background": "light"
     },
     "output_type": "display_data"
    }
   ],
   "source": [
    "bins=50\n",
    "_=plt.hist(Q[\"q\"], bins=bins, normed=True)"
   ]
  },
  {
   "cell_type": "markdown",
   "metadata": {},
   "source": [
    "Найдем ряд распределения для СВ -- сложность вопроса $q \\sim Q$"
   ]
  },
  {
   "cell_type": "code",
   "execution_count": 8,
   "metadata": {
    "scrolled": true
   },
   "outputs": [],
   "source": [
    "q = Q[\"q\"].values\n",
    "N = len(q)\n",
    "final = 1 + 1e-10\n",
    "grid = np.hstack((np.linspace(0, final, bins+1)[:-1].reshape(-1,1), np.linspace(0, final, bins+1)[1:].reshape(-1,1)))"
   ]
  },
  {
   "cell_type": "code",
   "execution_count": 9,
   "metadata": {
    "scrolled": true
   },
   "outputs": [],
   "source": [
    "probs = []\n",
    "x = grid.mean(axis=1)\n",
    "for T in grid:\n",
    "    prob = len(q[(q>=T[0]) & (q<T[1])])/N\n",
    "    probs.append(prob)\n",
    "probs = np.array(probs)"
   ]
  },
  {
   "cell_type": "code",
   "execution_count": 10,
   "metadata": {},
   "outputs": [
    {
     "data": {
      "text/plain": [
       "[<matplotlib.lines.Line2D at 0x1a27206240>]"
      ]
     },
     "execution_count": 10,
     "metadata": {},
     "output_type": "execute_result"
    },
    {
     "data": {
      "image/png": "[encoded data removed]",
      "text/plain": [
       "<Figure size 432x288 with 1 Axes>"
      ]
     },
     "metadata": {
      "needs_background": "light"
     },
     "output_type": "display_data"
    }
   ],
   "source": [
    "plt.plot(x, probs)"
   ]
  },
  {
   "cell_type": "code",
   "execution_count": 11,
   "metadata": {},
   "outputs": [
    {
     "name": "stdout",
     "output_type": "stream",
     "text": [
      "1.0\n"
     ]
    }
   ],
   "source": [
    "print(sum(probs))"
   ]
  },
  {
   "cell_type": "markdown",
   "metadata": {},
   "source": [
    "Найдем рейтинг каждого игрока.\n",
    "\n",
    "Обучим логистичесскую регрессию предсказывать вероятность $p_i$ ответить игроком на вопрос используя единственный признак - сложность вопроса.\n",
    "\n",
    "Тогда так как $p_i$, будет функцией от реализации случайной велечины $q_i \\sim Q$, можем найти мат ожидание $p_i$ по распределению $Q$. $p_i = \\sigma(\\theta q_i + \\theta_0)$.\n",
    "\n",
    "$E[p] = \\sum_{q_i \\in Q} q_ip(q_i)$\n",
    "\n",
    "Это мат ожидание и будем считать рейтингом игрока. У него также есть вероятностный смысл: вероятность ответить на случайный вопрос из базы вопросов. Это понадобится для ранжирования команд."
   ]
  },
  {
   "cell_type": "code",
   "execution_count": 12,
   "metadata": {
    "scrolled": true
   },
   "outputs": [],
   "source": [
    "X[\"rating_player\"] = [0]*len(X)"
   ]
  },
  {
   "cell_type": "code",
   "execution_count": 310,
   "metadata": {
    "scrolled": true
   },
   "outputs": [
    {
     "data": {
      "application/vnd.jupyter.widget-view+json": {
       "model_id": "ecf74e62a0c542e3a1c709a7535ffce2",
       "version_major": 2,
       "version_minor": 0
      },
      "text/plain": [
       "HBox(children=(FloatProgress(value=0.0, max=48160.0), HTML(value='')))"
      ]
     },
     "metadata": {},
     "output_type": "display_data"
    },
    {
     "name": "stdout",
     "output_type": "stream",
     "text": [
      "\n"
     ]
    }
   ],
   "source": [
    "clf = LogisticRegression(C=100, solver=\"lbfgs\")\n",
    "for player in tqdm(X[X.rating_player == 0][\"id_pl\"].drop_duplicates().values):\n",
    "    q_feat = X[X.id_pl==player][\"q\"].values.reshape(-1,1)\n",
    "    y = X[X.id_pl==player][\"y\"].values\n",
    "    if np.unique(y).shape[0] > 1:\n",
    "        clf.fit(q_feat,y)\n",
    "        predict_ans = clf.predict_proba(x.reshape(-1,1))[:,1]\n",
    "        rating = predict_ans @ probs\n",
    "    else:\n",
    "        rating = y[0]\n",
    "    X.loc[X[\"id_pl\"] == player, \"rating_player\"] = rating"
   ]
  },
  {
   "cell_type": "code",
   "execution_count": 195,
   "metadata": {},
   "outputs": [],
   "source": [
    "#X.to_csv(\"data_with_rating.csv\", index=False)\n",
    "#Ссылка на данные:\n",
    "#https://drive.google.com/file/d/1ZwgdnhDOof-LsiSQaEicMGCk_DHArDbK/view?usp=sharing\n",
    "X = pd.read_csv(\"data_with_rating.csv\")"
   ]
  },
  {
   "cell_type": "code",
   "execution_count": 13,
   "metadata": {
    "scrolled": true
   },
   "outputs": [
    {
     "data": {
      "application/vnd.jupyter.widget-view+json": {
       "model_id": "f6227d16b09840b49b6ad014c015bd80",
       "version_major": 2,
       "version_minor": 0
      },
      "text/plain": [
       "HBox(children=(FloatProgress(value=0.0, max=59101.0), HTML(value='')))"
      ]
     },
     "metadata": {},
     "output_type": "display_data"
    },
    {
     "name": "stdout",
     "output_type": "stream",
     "text": [
      "\n"
     ]
    }
   ],
   "source": [
    "raitings = {}\n",
    "x_players = X.drop_duplicates(\"id_pl\")[[\"id_pl\",\"rating_player\"]]\n",
    "for player in tqdm(x_players.id_pl):\n",
    "    raitings[player] = x_players[x_players.id_pl == player][\"rating_player\"].values[0]"
   ]
  },
  {
   "cell_type": "code",
   "execution_count": 17,
   "metadata": {},
   "outputs": [],
   "source": [
    "mean_rating = x_players[\"rating_player\"].values.mean()"
   ]
  },
  {
   "cell_type": "markdown",
   "metadata": {},
   "source": [
    "*TASK*: Качество рейтинг-системы оценивается качеством предсказаний результатов турниров. Но сами повопросные результаты наши модели предсказывать вряд ли смогут, ведь неизвестно, насколько сложными окажутся вопросы в будущих турнирах; да и не нужны эти предсказания сами по себе. Поэтому:\n",
    "* предложите способ предсказать результаты нового турнира с известными составами, но неизвестными вопросами, в виде ранжирования команд;\n",
    "* в качестве метрики качества на тестовом наборе давайте считать ранговые корреляции Спирмена и Кендалла (их можно взять в пакете ​scipy)​между реальным ранжированием в результатах турнира и предсказанным\n",
    "1 моделью, усреднённые по тестовому множеству турниров.\n",
    "\n",
    "*ANS*:"
   ]
  },
  {
   "cell_type": "markdown",
   "metadata": {},
   "source": [
    "Отранжируем команды по рейтингу (т.е по вероятности ответить на случайный вопрос из базы). \n",
    "Вероятность команды ответить на вопрос вычислим из рейтинга состава команды: \n",
    "    \n",
    "$R = 1 - \\prod\\limits_{i\\in T} (1 - r_i)$\n",
    "\n",
    "* $r_i$ - рейтинг $i$ - го игрока \n",
    "* $T$ - состав команды\n",
    "* $R$ - рейтинг команды"
   ]
  },
  {
   "cell_type": "code",
   "execution_count": 18,
   "metadata": {},
   "outputs": [],
   "source": [
    "def command_rank(command):\n",
    "    inv_rate = 1\n",
    "    players = [p[\"player\"][\"id\"] for p in command]\n",
    "    for player in players:\n",
    "        if player in raitings.keys():\n",
    "            inv_rate = inv_rate * (1-raitings[player])\n",
    "        else:\n",
    "            inv_rate = inv_rate * (1 - mean_rating)\n",
    "    return 1 - inv_rate"
   ]
  },
  {
   "cell_type": "code",
   "execution_count": 21,
   "metadata": {},
   "outputs": [
    {
     "name": "stdout",
     "output_type": "stream",
     "text": [
      "Mean spearman coeff: 0.6672880916086196, mean kendall coeff: 0.5154203218219204\n"
     ]
    }
   ],
   "source": [
    "SPEARMAN = []\n",
    "KENDALL = []\n",
    "for tour in test_tour.keys():\n",
    "    \n",
    "    ranks_true = []\n",
    "    ranks_pred = []\n",
    "    \n",
    "    for command in results[tour]:\n",
    "        if 'position' in command.keys() and 'teamMembers' in command.keys():\n",
    "            ranks_true.append(-command['position'])\n",
    "            ranks_pred.append(command_rank(command['teamMembers']))\n",
    "    spearman_coef = spearmanr(ranks_true, ranks_pred)[0]\n",
    "    kendall_coef = kendalltau(ranks_true, ranks_pred)[0]\n",
    "    \n",
    "    if not np.isnan(spearman_coef):\n",
    "        SPEARMAN.append(spearman_coef)\n",
    "    if not np.isnan(kendall_coef):\n",
    "        KENDALL.append(kendall_coef)\n",
    "        \n",
    "print(f\"Mean spearman coeff: {np.mean(SPEARMAN)}, mean kendall coeff: {np.mean(KENDALL)}\")"
   ]
  },
  {
   "cell_type": "markdown",
   "metadata": {},
   "source": [
    "*TASK*: Теперь главное: ЧГК — это всё-таки командная игра. Поэтому:\n",
    "* предложите способ учитывать то, что на вопрос отвечают сразу несколько игроков; скорее всего, понадобятся скрытые переменные; не стесняйтесь делать упрощающие предположения, но теперь переменные “игрок X ответил на вопрос Y” при условии данных должны стать зависимыми для игроков одной и той же команды;\n",
    "* разработайте EM-схему для обучения этой модели, реализуйте её в коде;\n",
    "* обучите несколько итераций, убедитесь, что целевые метрики со временем растут (скорее всего, ненамного, но расти должны), выберите лучшую модель, используя целевые метрики."
   ]
  },
  {
   "cell_type": "markdown",
   "metadata": {},
   "source": [
    "*ANS*:\n",
    "\n",
    "Нам понадобятся id команд"
   ]
  },
  {
   "cell_type": "code",
   "execution_count": 80,
   "metadata": {
    "scrolled": true
   },
   "outputs": [],
   "source": [
    "command_id = []\n",
    "for tour_id in train_tour.keys():\n",
    "    for i in range(999):\n",
    "        \n",
    "        for comand in results[tour_id]:\n",
    "            if 'mask' in comand.keys() and comand[\"mask\"] is not None and len(comand[\"mask\"]) > i:             \n",
    "                players = [p[\"player\"][\"id\"] for p in comand[\"teamMembers\"]]                   \n",
    "                for player in players:\n",
    "                    command_id.append(comand[\"team\"][\"id\"])\n",
    "                stop = False              \n",
    "            \n",
    "        if stop:\n",
    "            break"
   ]
  },
  {
   "cell_type": "code",
   "execution_count": 196,
   "metadata": {},
   "outputs": [],
   "source": [
    "X[\"command_id\"] = command_id"
   ]
  },
  {
   "cell_type": "code",
   "execution_count": null,
   "metadata": {},
   "outputs": [],
   "source": []
  },
  {
   "cell_type": "code",
   "execution_count": 186,
   "metadata": {},
   "outputs": [],
   "source": [
    "p_init = X[\"rating_player\"].values"
   ]
  },
  {
   "cell_type": "code",
   "execution_count": 258,
   "metadata": {},
   "outputs": [],
   "source": [
    "def e_step(p, X):\n",
    "    X = X.copy()\n",
    "    X[\"inv_p\"] = 1 - p\n",
    "    p_command = X[['command_id', 'q_id', 'inv_p']].groupby(by=['command_id', 'q_id'], \n",
    "                                                        sort=False, as_index=False).prod()\n",
    "    p_command[\"p\"] = 1 - p_command[\"inv_p\"].values\n",
    "    p_command.drop(['inv_p'], axis=1, inplace=True)\n",
    "    X = X.merge(p_command, on=[\"command_id\", \"q_id\"])\n",
    "    expect = p / X[\"p\"].values\n",
    "    expect[X[\"y\"].values == 0] = 0\n",
    "    return expect"
   ]
  },
  {
   "cell_type": "code",
   "execution_count": 262,
   "metadata": {
    "scrolled": true
   },
   "outputs": [
    {
     "name": "stderr",
     "output_type": "stream",
     "text": [
      "/Users/baduk/anaconda3/lib/python3.7/site-packages/ipykernel_launcher.py:9: RuntimeWarning: invalid value encountered in true_divide\n",
      "  if __name__ == '__main__':\n"
     ]
    }
   ],
   "source": [
    "expect = e_step(p_init, X)"
   ]
  },
  {
   "cell_type": "code",
   "execution_count": 263,
   "metadata": {},
   "outputs": [
    {
     "name": "stdout",
     "output_type": "stream",
     "text": [
      "-0.02244156649016441\n"
     ]
    }
   ],
   "source": [
    "print(np.mean(p_init[X.y.values > 0] - expect[X.y.values > 0]))"
   ]
  },
  {
   "cell_type": "code",
   "execution_count": 280,
   "metadata": {},
   "outputs": [],
   "source": [
    "ohe = OneHotEncoder(handle_unknown='ignore')\n",
    "ohe.fit(X[['id_pl', 'q_id']])\n",
    "X_spars_feat = enc.transform(X[['id_pl', 'q_id']])\n",
    "zero_counts = np.array((X_spars_feat != 0).sum(axis=0)).reshape(-1)"
   ]
  },
  {
   "cell_type": "code",
   "execution_count": 281,
   "metadata": {},
   "outputs": [],
   "source": [
    "def sigma(x, theta):\n",
    "    return 1 / (1 + np.exp(-x @ theta))"
   ]
  },
  {
   "cell_type": "code",
   "execution_count": 288,
   "metadata": {},
   "outputs": [],
   "source": [
    "def m_step(X_spars_feat, theta, expect, n_iters=20, a=1):\n",
    "    theta = theta.copy()\n",
    "    for _ in range(n_iters):\n",
    "        p = sigma(X_spars_feat, theta)\n",
    "        grad = X_spars_feat.T @ (expect * (1 - p) - (1 - expect) * p) / zero_counts\n",
    "        theta += a * grad\n",
    "    return sigma(X_spars_feat, theta), theta"
   ]
  },
  {
   "cell_type": "code",
   "execution_count": 289,
   "metadata": {},
   "outputs": [],
   "source": [
    "theta = np.random.uniform(0,1,X_spars_feat.shape[1])"
   ]
  },
  {
   "cell_type": "code",
   "execution_count": 290,
   "metadata": {},
   "outputs": [
    {
     "data": {
      "text/plain": [
       "(array([0.72908674, 0.72476851, 0.63408571, ..., 0.64200826, 0.62205462,\n",
       "        0.55605115]),\n",
       " array([-0.05929414,  0.65199852,  0.23710553, ..., -0.0181761 ,\n",
       "         0.00491586,  0.41882365]))"
      ]
     },
     "execution_count": 290,
     "metadata": {},
     "output_type": "execute_result"
    }
   ],
   "source": [
    "m_step(X_spars_feat, theta, expect, n_iters=1, a=1)"
   ]
  },
  {
   "cell_type": "code",
   "execution_count": 301,
   "metadata": {},
   "outputs": [
    {
     "data": {
      "application/vnd.jupyter.widget-view+json": {
       "model_id": "e53331916da440fca22423ccea689d3c",
       "version_major": 2,
       "version_minor": 0
      },
      "text/plain": [
       "HBox(children=(FloatProgress(value=0.0, max=2.0), HTML(value='')))"
      ]
     },
     "metadata": {},
     "output_type": "display_data"
    },
    {
     "name": "stdout",
     "output_type": "stream",
     "text": [
      "cross entropy: -0.31434422839686776\n",
      "cross entropy: -0.31178599966163456\n",
      "\n"
     ]
    }
   ],
   "source": [
    "N = 2\n",
    "#p = p_init\n",
    "for i in tqdm(range(N)):\n",
    "    expect = e_step(p, X)\n",
    "    p, theta = m_step(X_spars_feat, theta, expect)\n",
    "    print(f'cross entropy: {np.mean(expect * np.log(p) + (1 - expect) * np.log(1 - p))}')"
   ]
  },
  {
   "cell_type": "code",
   "execution_count": 298,
   "metadata": {},
   "outputs": [
    {
     "data": {
      "text/plain": [
       "array(['x0_15', 'x0_16', 'x0_23', ..., 'x1_6255_97', 'x1_6255_98',\n",
       "       'x1_6255_99'], dtype=object)"
      ]
     },
     "execution_count": 298,
     "metadata": {},
     "output_type": "execute_result"
    }
   ],
   "source": [
    "ohe.get_feature_names()"
   ]
  },
  {
   "cell_type": "code",
   "execution_count": null,
   "metadata": {},
   "outputs": [],
   "source": []
  }
 ],
 "metadata": {
  "kernelspec": {
   "display_name": "Python 3",
   "language": "python",
   "name": "python3"
  },
  "language_info": {
   "codemirror_mode": {
    "name": "ipython",
    "version": 3
   },
   "file_extension": ".py",
   "mimetype": "text/x-python",
   "name": "python",
   "nbconvert_exporter": "python",
   "pygments_lexer": "ipython3",
   "version": "3.7.1"
  }
 },
 "nbformat": 4,
 "nbformat_minor": 2
}
